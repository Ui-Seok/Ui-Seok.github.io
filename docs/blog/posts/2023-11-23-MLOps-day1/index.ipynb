{
  "cells": [
    {
      "cell_type": "raw",
      "metadata": {},
      "source": [
        "---\n",
        "title: \"MLOps for MLE - 1\"\n",
        "subtitle: Docker 환경 설정 및 DB 설정\n",
        "author: \"Ui Seok\"\n",
        "date: \"2023-11-23\"\n",
        "categories: [mlops]\n",
        "\n",
        "page-layout: article\n",
        "---"
      ],
      "id": "cdf2759d"
    },
    {
      "cell_type": "markdown",
      "metadata": {},
      "source": [
        "## Summary\n",
        "\n",
        "1. Docker 설치 및 PostgreSQL DB 서버 생성\n",
        "\n",
        "2. DB의 role name과 attribute 확인\n",
        "\n",
        "3. 생성된 DB에 query를 작성하여 테이블 생성\n",
        "\n",
        "::: {.callout-note}\n",
        "실습을 진행했던 코드를 보고싶으시다면 [여기](https://github.com/Ui-Seok/mlops-tutorial)를 눌러주세요\n",
        ":::\n",
        "\n",
        "## 스펙 명세서\n",
        "1. Docker 설치\n",
        "2. PostgreSQL DB 서버를 생성\n",
        "    - Image: `postgres:14.0`\n",
        "    - Container name: `postgres-server`\n",
        "    - POSTGRES_USER: `myuser`\n",
        "    - POSTGRES_PASSWORD: `mypassword`\n",
        "    - POSTGRES_DB: `mydatabase`\n",
        "    - Port forwarding: `5432:5432`\n",
        "3. 생성된 DB 서버 확인\n",
        "    - `psql`로 DB에 접근하여 role name과 attributes 확인\n",
        "\n",
        "\n",
        "## 실습\n",
        "Docker 설치 후 `docker run` 명령어를 사용하여 DB 서버 생성하기\n",
        "\n",
        "``` {shell}\n",
        "$ docker run -d \\\n",
        "  --name postgres-server \\\n",
        "  -p 5432:5432 \\\n",
        "  -e POSTGRES_USER=myuser \\\n",
        "  -e POSTGRES_PASSWORD=mypassword \\\n",
        "  -e POSTGRES_DB=mydatabase \\\n",
        "  postgres:14.0\n",
        "\n",
        "```\n",
        "\n",
        "\n",
        "\n",
        "\n",
        "## Reference\n",
        "\n",
        "[ML Engineer를 위한 MLOps tutorial](https://mlops-for-mle.github.io/tutorial/)"
      ],
      "id": "93d91204"
    }
  ],
  "metadata": {
    "kernelspec": {
      "display_name": "Python 3",
      "language": "python",
      "name": "python3"
    }
  },
  "nbformat": 4,
  "nbformat_minor": 5
}